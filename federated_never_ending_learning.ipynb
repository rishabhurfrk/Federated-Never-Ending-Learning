{
 "cells": [
  {
   "cell_type": "markdown",
   "metadata": {
    "id": "Wno_h6LkQpQl",
    "jp-MarkdownHeadingCollapsed": true
   },
   "source": [
    "## RISHABH KANNOJIA\n",
    "## 21BPS1532\n",
    "## Cyber Security (CSE4003)"
   ]
  },
  {
   "cell_type": "markdown",
   "metadata": {
    "id": "FzIcP9CaZeEx"
   },
   "source": [
    "# Federated Never Ending Learning"
   ]
  },
  {
   "cell_type": "markdown",
   "metadata": {
    "id": "8G4de9DgyxrA"
   },
   "source": [
    "### Importing required libraries"
   ]
  },
  {
   "cell_type": "code",
   "execution_count": 6,
   "metadata": {
    "id": "zts3mqM-ZeE3"
   },
   "outputs": [],
   "source": [
    "import pandas as pd\n",
    "import numpy as np\n",
    "import matplotlib.pyplot as plt"
   ]
  },
  {
   "cell_type": "code",
   "execution_count": 7,
   "metadata": {
    "id": "yz3W55c6ZeE6"
   },
   "outputs": [],
   "source": [
    "import warnings\n",
    "warnings.filterwarnings(\"ignore\")"
   ]
  },
  {
   "cell_type": "code",
   "execution_count": 8,
   "metadata": {
    "id": "AJAlrm3VZeE7"
   },
   "outputs": [],
   "source": [
    "from sklearn.model_selection import train_test_split\n",
    "from sklearn.metrics import ConfusionMatrixDisplay, classification_report"
   ]
  },
  {
   "cell_type": "code",
   "execution_count": 9,
   "metadata": {
    "id": "hJEK7Uu7ZeE9"
   },
   "outputs": [],
   "source": [
    "from tensorflow import keras\n",
    "from keras.models import Sequential\n",
    "from keras.layers import Dense"
   ]
  },
  {
   "cell_type": "markdown",
   "metadata": {
    "id": "uAaPmN9oy242"
   },
   "source": [
    "### Mounting the *google drive*"
   ]
  },
  {
   "cell_type": "code",
   "execution_count": null,
   "metadata": {
    "colab": {
     "base_uri": "https://localhost:8080/"
    },
    "executionInfo": {
     "elapsed": 25361,
     "status": "ok",
     "timestamp": 1692443564793,
     "user": {
      "displayName": "Aryan Bansal",
      "userId": "06697403286212116700"
     },
     "user_tz": -330
    },
    "id": "biV0aIJ8ZqsL",
    "outputId": "ce3c935f-6c1c-4a00-b655-4e8d406fb273"
   },
   "outputs": [],
   "source": [
    "from google.colab import drive\n",
    "\n",
    "drive.mount('/content/drive')"
   ]
  },
  {
   "cell_type": "markdown",
   "metadata": {
    "id": "xPcgoO2Yy-kD"
   },
   "source": [
    "### Loading the dataset"
   ]
  },
  {
   "cell_type": "code",
   "execution_count": null,
   "metadata": {
    "id": "_QBQ5_GAZeFA"
   },
   "outputs": [],
   "source": [
    "df = pd.read_csv('/content/drive/My Drive/CICIDS_test.csv', skipinitialspace=True)"
   ]
  },
  {
   "cell_type": "markdown",
   "metadata": {
    "id": "orWhLqd4SG7N"
   },
   "source": [
    "## Dataset Description"
   ]
  },
  {
   "cell_type": "code",
   "execution_count": null,
   "metadata": {
    "colab": {
     "base_uri": "https://localhost:8080/",
     "height": 270
    },
    "executionInfo": {
     "elapsed": 360,
     "status": "ok",
     "timestamp": 1692443593403,
     "user": {
      "displayName": "Aryan Bansal",
      "userId": "06697403286212116700"
     },
     "user_tz": -330
    },
    "id": "51z2qboXdsi2",
    "outputId": "4f603492-ed1a-460c-9c87-e7670b942a28"
   },
   "outputs": [],
   "source": [
    "df.head()"
   ]
  },
  {
   "cell_type": "code",
   "execution_count": null,
   "metadata": {
    "colab": {
     "base_uri": "https://localhost:8080/"
    },
    "executionInfo": {
     "elapsed": 587,
     "status": "ok",
     "timestamp": 1692443594366,
     "user": {
      "displayName": "Aryan Bansal",
      "userId": "06697403286212116700"
     },
     "user_tz": -330
    },
    "id": "HK_YgPEsTSkA",
    "outputId": "130f9557-5d05-4908-f9d9-c72d379db223"
   },
   "outputs": [
    {
     "data": {
      "text/plain": [
       "Index(['Destination Port', 'Flow Duration', 'Total Fwd Packets',\n",
       "       'Total Backward Packets', 'Total Length of Fwd Packets',\n",
       "       'Total Length of Bwd Packets', 'Fwd Packet Length Max',\n",
       "       'Fwd Packet Length Min', 'Fwd Packet Length Mean',\n",
       "       'Fwd Packet Length Std', 'Bwd Packet Length Max',\n",
       "       'Bwd Packet Length Min', 'Bwd Packet Length Mean',\n",
       "       'Bwd Packet Length Std', 'Flow Bytes/s', 'Flow Packets/s',\n",
       "       'Flow IAT Mean', 'Flow IAT Std', 'Flow IAT Max', 'Flow IAT Min',\n",
       "       'Fwd IAT Total', 'Fwd IAT Mean', 'Fwd IAT Std', 'Fwd IAT Max',\n",
       "       'Fwd IAT Min', 'Bwd IAT Total', 'Bwd IAT Mean', 'Bwd IAT Std',\n",
       "       'Bwd IAT Max', 'Bwd IAT Min', 'Fwd PSH Flags', 'Bwd PSH Flags',\n",
       "       'Fwd URG Flags', 'Bwd URG Flags', 'Fwd Header Length',\n",
       "       'Bwd Header Length', 'Fwd Packets/s', 'Bwd Packets/s',\n",
       "       'Min Packet Length', 'Max Packet Length', 'Packet Length Mean',\n",
       "       'Packet Length Std', 'Packet Length Variance', 'FIN Flag Count',\n",
       "       'SYN Flag Count', 'RST Flag Count', 'PSH Flag Count', 'ACK Flag Count',\n",
       "       'URG Flag Count', 'CWE Flag Count', 'ECE Flag Count', 'Down/Up Ratio',\n",
       "       'Average Packet Size', 'Avg Fwd Segment Size', 'Avg Bwd Segment Size',\n",
       "       'Fwd Header Length.1', 'Fwd Avg Bytes/Bulk', 'Fwd Avg Packets/Bulk',\n",
       "       'Fwd Avg Bulk Rate', 'Bwd Avg Bytes/Bulk', 'Bwd Avg Packets/Bulk',\n",
       "       'Bwd Avg Bulk Rate', 'Subflow Fwd Packets', 'Subflow Fwd Bytes',\n",
       "       'Subflow Bwd Packets', 'Subflow Bwd Bytes', 'Init_Win_bytes_forward',\n",
       "       'Init_Win_bytes_backward', 'act_data_pkt_fwd', 'min_seg_size_forward',\n",
       "       'Active Mean', 'Active Std', 'Active Max', 'Active Min', 'Idle Mean',\n",
       "       'Idle Std', 'Idle Max', 'Idle Min', 'Label'],\n",
       "      dtype='object')"
      ]
     },
     "execution_count": 9,
     "metadata": {},
     "output_type": "execute_result"
    }
   ],
   "source": [
    "df.columns"
   ]
  },
  {
   "cell_type": "code",
   "execution_count": null,
   "metadata": {
    "colab": {
     "base_uri": "https://localhost:8080/"
    },
    "executionInfo": {
     "elapsed": 12,
     "status": "ok",
     "timestamp": 1692443594366,
     "user": {
      "displayName": "Aryan Bansal",
      "userId": "06697403286212116700"
     },
     "user_tz": -330
    },
    "id": "ncZwpX1sTT_C",
    "outputId": "f13e1095-fa78-46e6-ade2-ebceb877691a"
   },
   "outputs": [
    {
     "name": "stdout",
     "output_type": "stream",
     "text": [
      "<class 'pandas.core.frame.DataFrame'>\n",
      "RangeIndex: 566149 entries, 0 to 566148\n",
      "Data columns (total 79 columns):\n",
      " #   Column                       Non-Null Count   Dtype  \n",
      "---  ------                       --------------   -----  \n",
      " 0   Destination Port             566149 non-null  int64  \n",
      " 1   Flow Duration                566149 non-null  float64\n",
      " 2   Total Fwd Packets            566149 non-null  int64  \n",
      " 3   Total Backward Packets       566149 non-null  int64  \n",
      " 4   Total Length of Fwd Packets  566149 non-null  int64  \n",
      " 5   Total Length of Bwd Packets  566149 non-null  int64  \n",
      " 6   Fwd Packet Length Max        566149 non-null  int64  \n",
      " 7   Fwd Packet Length Min        566149 non-null  int64  \n",
      " 8   Fwd Packet Length Mean       566149 non-null  float64\n",
      " 9   Fwd Packet Length Std        566149 non-null  float64\n",
      " 10  Bwd Packet Length Max        566149 non-null  int64  \n",
      " 11  Bwd Packet Length Min        566149 non-null  int64  \n",
      " 12  Bwd Packet Length Mean       566149 non-null  float64\n",
      " 13  Bwd Packet Length Std        566149 non-null  float64\n",
      " 14  Flow Bytes/s                 566149 non-null  float64\n",
      " 15  Flow Packets/s               566149 non-null  float64\n",
      " 16  Flow IAT Mean                566149 non-null  float64\n",
      " 17  Flow IAT Std                 566149 non-null  float64\n",
      " 18  Flow IAT Max                 566149 non-null  float64\n",
      " 19  Flow IAT Min                 566149 non-null  float64\n",
      " 20  Fwd IAT Total                566149 non-null  int64  \n",
      " 21  Fwd IAT Mean                 566149 non-null  float64\n",
      " 22  Fwd IAT Std                  566149 non-null  float64\n",
      " 23  Fwd IAT Max                  566149 non-null  int64  \n",
      " 24  Fwd IAT Min                  566149 non-null  float64\n",
      " 25  Bwd IAT Total                566149 non-null  int64  \n",
      " 26  Bwd IAT Mean                 566149 non-null  float64\n",
      " 27  Bwd IAT Std                  566149 non-null  float64\n",
      " 28  Bwd IAT Max                  566149 non-null  int64  \n",
      " 29  Bwd IAT Min                  566149 non-null  int64  \n",
      " 30  Fwd PSH Flags                566149 non-null  int64  \n",
      " 31  Bwd PSH Flags                566149 non-null  int64  \n",
      " 32  Fwd URG Flags                566149 non-null  int64  \n",
      " 33  Bwd URG Flags                566149 non-null  int64  \n",
      " 34  Fwd Header Length            566149 non-null  float64\n",
      " 35  Bwd Header Length            566149 non-null  float64\n",
      " 36  Fwd Packets/s                566149 non-null  float64\n",
      " 37  Bwd Packets/s                566149 non-null  float64\n",
      " 38  Min Packet Length            566149 non-null  int64  \n",
      " 39  Max Packet Length            566149 non-null  int64  \n",
      " 40  Packet Length Mean           566149 non-null  float64\n",
      " 41  Packet Length Std            566149 non-null  float64\n",
      " 42  Packet Length Variance       566149 non-null  float64\n",
      " 43  FIN Flag Count               566149 non-null  int64  \n",
      " 44  SYN Flag Count               566149 non-null  int64  \n",
      " 45  RST Flag Count               566149 non-null  int64  \n",
      " 46  PSH Flag Count               566149 non-null  int64  \n",
      " 47  ACK Flag Count               566149 non-null  int64  \n",
      " 48  URG Flag Count               566149 non-null  int64  \n",
      " 49  CWE Flag Count               566149 non-null  int64  \n",
      " 50  ECE Flag Count               566149 non-null  int64  \n",
      " 51  Down/Up Ratio                566149 non-null  int64  \n",
      " 52  Average Packet Size          566149 non-null  float64\n",
      " 53  Avg Fwd Segment Size         566149 non-null  float64\n",
      " 54  Avg Bwd Segment Size         566149 non-null  float64\n",
      " 55  Fwd Header Length.1          566149 non-null  float64\n",
      " 56  Fwd Avg Bytes/Bulk           566149 non-null  int64  \n",
      " 57  Fwd Avg Packets/Bulk         566149 non-null  int64  \n",
      " 58  Fwd Avg Bulk Rate            566149 non-null  int64  \n",
      " 59  Bwd Avg Bytes/Bulk           566149 non-null  int64  \n",
      " 60  Bwd Avg Packets/Bulk         566149 non-null  int64  \n",
      " 61  Bwd Avg Bulk Rate            566149 non-null  int64  \n",
      " 62  Subflow Fwd Packets          566149 non-null  int64  \n",
      " 63  Subflow Fwd Bytes            566149 non-null  int64  \n",
      " 64  Subflow Bwd Packets          566149 non-null  int64  \n",
      " 65  Subflow Bwd Bytes            566149 non-null  int64  \n",
      " 66  Init_Win_bytes_forward       566149 non-null  float64\n",
      " 67  Init_Win_bytes_backward      566149 non-null  float64\n",
      " 68  act_data_pkt_fwd             566149 non-null  int64  \n",
      " 69  min_seg_size_forward         566149 non-null  float64\n",
      " 70  Active Mean                  566149 non-null  float64\n",
      " 71  Active Std                   566149 non-null  float64\n",
      " 72  Active Max                   566149 non-null  int64  \n",
      " 73  Active Min                   566149 non-null  int64  \n",
      " 74  Idle Mean                    566149 non-null  float64\n",
      " 75  Idle Std                     566149 non-null  float64\n",
      " 76  Idle Max                     566149 non-null  int64  \n",
      " 77  Idle Min                     566149 non-null  int64  \n",
      " 78  Label                        566149 non-null  int64  \n",
      "dtypes: float64(34), int64(45)\n",
      "memory usage: 341.2 MB\n"
     ]
    }
   ],
   "source": [
    "df.info()"
   ]
  },
  {
   "cell_type": "markdown",
   "metadata": {
    "id": "SwLFtWm4SufI"
   },
   "source": [
    "### From here, it can be concluded that the dataset has no missing value, also all the features doesn't categorical data, hence due to these reason, it can be said that the data is cleaned"
   ]
  },
  {
   "cell_type": "markdown",
   "metadata": {
    "id": "D52awWMlSBCl"
   },
   "source": [
    "## Data Preparation and Preprocessing\n",
    "\n",
    "- Data Preparation:\n",
    "    - We first read the csv into a dataframe\n",
    "    - We then separate the data and the labels into two matrices `X` and `Y`\n",
    "- Data Preprocessing:\n",
    "    - The data was first normalized, this centers each attribute of the data around 0.\n",
    "    - We then use a min-max scaler to rescale the data.\n",
    "- These steps ensure that the ML algorithm gets the most out of the data."
   ]
  },
  {
   "cell_type": "code",
   "execution_count": null,
   "metadata": {
    "id": "IzSoACGWZeFB"
   },
   "outputs": [],
   "source": [
    "from sklearn.preprocessing import MinMaxScaler, Normalizer\n",
    "\n",
    "X = df.loc[:, df.columns != 'Label'] #Defining 'X' as a dataset without 'Label' column as that of 'df'\n",
    "X = Normalizer().fit_transform(X) #Normalizing the data\n",
    "X = MinMaxScaler().fit_transform(X) #Scaling the data\n",
    "Y = df[['Label']].to_numpy() #Created a numpy array 'Y' of column 'Label' of 'df'"
   ]
  },
  {
   "cell_type": "code",
   "execution_count": null,
   "metadata": {
    "colab": {
     "base_uri": "https://localhost:8080/"
    },
    "executionInfo": {
     "elapsed": 6,
     "status": "ok",
     "timestamp": 1692443594950,
     "user": {
      "displayName": "Aryan Bansal",
      "userId": "06697403286212116700"
     },
     "user_tz": -330
    },
    "id": "GhXphn_TZeFC",
    "outputId": "c81cccd3-61db-409b-b8ba-b7a67c3574da"
   },
   "outputs": [
    {
     "name": "stdout",
     "output_type": "stream",
     "text": [
      "(566149, 78)\n",
      "(566149, 1)\n",
      "15\n"
     ]
    },
    {
     "data": {
      "text/plain": [
       "0     454620\n",
       "4      46215\n",
       "10     31786\n",
       "2      25606\n",
       "3       2059\n",
       "7       1588\n",
       "11      1179\n",
       "6       1159\n",
       "5       1100\n",
       "1        393\n",
       "12       301\n",
       "14       130\n",
       "9          7\n",
       "13         4\n",
       "8          2\n",
       "dtype: int64"
      ]
     },
     "execution_count": 12,
     "metadata": {},
     "output_type": "execute_result"
    }
   ],
   "source": [
    "print(X.shape)\n",
    "print(Y.shape)\n",
    "print(len(np.unique(Y))) #Unique Lables in Y\n",
    "pd.value_counts(Y.ravel()) #Frequency of each class Label"
   ]
  },
  {
   "cell_type": "markdown",
   "metadata": {
    "id": "uHlC3gGlg_tN"
   },
   "source": [
    "### Here we can conclude that the dataset is imbalanced."
   ]
  },
  {
   "cell_type": "markdown",
   "metadata": {
    "id": "uBw32dK_ZeFD"
   },
   "source": [
    "## Classification Models"
   ]
  },
  {
   "cell_type": "markdown",
   "metadata": {
    "id": "_NgSsPP9ZeFE"
   },
   "source": [
    "- The `BinaryClassification` and `MulticlassClassification` class encapsulates a keras MLP model.\n",
    "- The number of layers and the input size can be passed in the constructor.\n",
    "- All of the methods we need later are abstracted away in this class so we can focus on the results rather than the implementation.\n",
    "- There are 4 main methods:\n",
    "    - The constructor: takes the input size, output size (for multiclassification) and the number of layers needed. It then creates and compiles the model using `keras`.\n",
    "    - `fit`: takes the training data and trains the model\n",
    "    - `predict`: takes the testing dataset, generates predictions and then evaluates the results.\n",
    "    - `set_avg_weights`: Implements federated learning. Takes a list of models (of the same class) and replaces the current weights with the average of the models give."
   ]
  },
  {
   "cell_type": "code",
   "execution_count": null,
   "metadata": {
    "id": "mUPtdSn2ZeFF"
   },
   "outputs": [],
   "source": [
    "class BinaryClassification:\n",
    "    def __init__(self, input_dims, layers):\n",
    "        self.model = Sequential(name=\"server_model\") #Keras model creation, model name is \"server_model\", 'Sequential' type most basic model is used\n",
    "        self.model.add(Dense( #the first hidden layer, or we can say second layer of neural network is defined\n",
    "            layers[0],\n",
    "            input_shape=(input_dims,),\n",
    "            activation='relu' #rectified linear unit (Incorporating non-linearity property into a deep learning model )\n",
    "        ))\n",
    "        for l in layers[1:]: #After first hidden layer, all layers are added using loop\n",
    "            self.model.add(Dense(l, activation='relu'))\n",
    "        self.model.add(Dense(1, activation='sigmoid'))\n",
    "        self.model.compile( #Compiling the model\n",
    "            loss='binary_crossentropy', #for probability\n",
    "            optimizer='adam',\n",
    "            metrics=['accuracy', ] #as it is the most common way to predict the accuracy\n",
    "        )\n",
    "        self.model.summary()\n",
    "\n",
    "    def set_avg_weights(self, models):\n",
    "        all_weights = np.array([\n",
    "            model.model.get_weights()\n",
    "                for model in models\n",
    "        ])\n",
    "        avg_weights = np.mean(all_weights, axis=0)\n",
    "        self.model.set_weights(avg_weights)\n",
    "\n",
    "    def fit(self, X, Y, epochs, batch_size): #'batch_size' tells that how much samples are to be included in one batch to be passed and processed at a time point of time by neural network\n",
    "        Y_bin = np.asarray([\n",
    "            0 if y == 0 else 1 for y in Y.ravel()\n",
    "        ]).reshape(-1, 1) #converting in 1-D array\n",
    "        # print(Y_bin.shape)\n",
    "        # print(pd.value_counts(Y_bin.ravel()))\n",
    "        self.model.fit(X, Y_bin, epochs=epochs, batch_size=batch_size)\n",
    "\n",
    "    def predict(self, X, Y):\n",
    "        Y_bin = np.asarray([\n",
    "            0 if y == 0 else 1 for y in Y.ravel()\n",
    "        ]).reshape(-1, 1)\n",
    "        # print(pd.value_counts(Y_bin.ravel()))\n",
    "\n",
    "        preds = self.model.predict(X)\n",
    "        preds = np.where(preds > 0.5, 1, 0)\n",
    "\n",
    "        # print(Y_bin.shape)\n",
    "        # print(preds.shape)\n",
    "        print(classification_report(Y_bin, preds))\n",
    "        # print(confusion_matrix(Y_bin, preds))\n",
    "        ConfusionMatrixDisplay.from_predictions(Y_bin, preds)\n"
   ]
  },
  {
   "cell_type": "code",
   "execution_count": null,
   "metadata": {
    "id": "pBNNO37fZeFI"
   },
   "outputs": [],
   "source": [
    "class MulticlassClassification:\n",
    "    def __init__(self, input_dims, layers, num_classes):\n",
    "        self.model = Sequential(name=\"server_model\")\n",
    "        self.model.add(Dense(\n",
    "            layers[0],\n",
    "            input_shape=(input_dims,),\n",
    "            activation='relu'\n",
    "        ))\n",
    "        for l in layers[1:]:\n",
    "            self.model.add(Dense(l, activation='relu'))\n",
    "        self.model.add(Dense(num_classes, activation='softmax')) #\"num_classes\" telling the no. of nodes in the last layer, so here final layer will contain 15 nodes, and maximum possibility of node will be the answer\n",
    "        self.model.compile(\n",
    "            loss='sparse_categorical_crossentropy',\n",
    "            optimizer='adam',\n",
    "            metrics=['accuracy']\n",
    "        )\n",
    "        self.model.summary()\n",
    "\n",
    "    def set_avg_weights(self, models):\n",
    "        all_weights = np.array([\n",
    "            model.model.get_weights()\n",
    "                for model in models\n",
    "        ])\n",
    "        avg_weights = np.mean(all_weights, axis=0)\n",
    "        self.model.set_weights(avg_weights)\n",
    "\n",
    "    def fit(self, X, Y, epochs, batch_size):\n",
    "        # print(pd.value_counts(Y.ravel()))\n",
    "        self.model.fit(X, Y.ravel(), epochs=epochs, batch_size=batch_size)\n",
    "\n",
    "    def predict(self, X, Y):\n",
    "        # print(pd.value_counts(Y.ravel()))\n",
    "\n",
    "        preds = self.model.predict(X)\n",
    "        preds = [np.argmax(p) for p in preds] #Max possibilty is taken from the array\n",
    "\n",
    "        print(classification_report(Y, preds))\n",
    "        # print(confusion_matrix(Y, preds))\n",
    "        ConfusionMatrixDisplay.from_predictions(Y, preds)\n",
    "\n"
   ]
  },
  {
   "cell_type": "markdown",
   "metadata": {
    "id": "mdaQlhboZeFK"
   },
   "source": [
    "## Non-Federated\n",
    "\n",
    "- We first use the above classes for normal, non-federated learning to see what results we get."
   ]
  },
  {
   "cell_type": "code",
   "execution_count": null,
   "metadata": {
    "colab": {
     "base_uri": "https://localhost:8080/"
    },
    "executionInfo": {
     "elapsed": 765,
     "status": "ok",
     "timestamp": 1692443595712,
     "user": {
      "displayName": "Aryan Bansal",
      "userId": "06697403286212116700"
     },
     "user_tz": -330
    },
    "id": "x--DziILZeFK",
    "outputId": "be86cca0-6e39-4b1e-e8de-5b7f152844a1"
   },
   "outputs": [
    {
     "name": "stdout",
     "output_type": "stream",
     "text": [
      "(396304, 78)\n",
      "(396304, 1)\n",
      "[ 0  1  2  3  4  5  6  7  8  9 10 11 12 13 14]\n",
      "0     318395\n",
      "4      32391\n",
      "10     22137\n",
      "2      17891\n",
      "3       1417\n",
      "7       1123\n",
      "11       827\n",
      "6        786\n",
      "5        780\n",
      "1        257\n",
      "12       197\n",
      "14        92\n",
      "9          7\n",
      "13         2\n",
      "8          2\n",
      "dtype: int64\n",
      "(169845, 78)\n",
      "(169845, 1)\n",
      "[ 0  1  2  3  4  5  6  7 10 11 12 13 14]\n",
      "0     136225\n",
      "4      13824\n",
      "10      9649\n",
      "2       7715\n",
      "3        642\n",
      "7        465\n",
      "6        373\n",
      "11       352\n",
      "5        320\n",
      "1        136\n",
      "12       104\n",
      "14        38\n",
      "13         2\n",
      "dtype: int64\n"
     ]
    }
   ],
   "source": [
    "X_train, X_test, Y_train, Y_test = train_test_split(X, Y, train_size=0.7, random_state=1)\n",
    "\n",
    "print(X_train.shape)\n",
    "print(Y_train.shape)\n",
    "print(np.unique(Y_train))\n",
    "print(pd.value_counts(Y_train.ravel()))\n",
    "\n",
    "print(X_test.shape)\n",
    "print(Y_test.shape)\n",
    "print(np.unique(Y_test))\n",
    "print(pd.value_counts(Y_test.ravel()))"
   ]
  },
  {
   "cell_type": "markdown",
   "metadata": {
    "id": "ptIsNvCtZeFL"
   },
   "source": [
    "### Binary Classification into Malicious\n",
    "\n",
    "1.   List item\n",
    "2.   List item\n",
    "\n"
   ]
  },
  {
   "cell_type": "code",
   "execution_count": null,
   "metadata": {
    "colab": {
     "background_save": true,
     "base_uri": "https://localhost:8080/"
    },
    "executionInfo": {
     "elapsed": 848542,
     "status": "ok",
     "timestamp": 1692444703005,
     "user": {
      "displayName": "Aryan Bansal",
      "userId": "06697403286212116700"
     },
     "user_tz": -330
    },
    "id": "WLemekeEZeFM",
    "outputId": "1fba9683-5f2a-49af-be91-cd0432cf8600"
   },
   "outputs": [
    {
     "name": "stdout",
     "output_type": "stream",
     "text": [
      "Model: \"server_model\"\n",
      "_________________________________________________________________\n",
      " Layer (type)                Output Shape              Param #   \n",
      "=================================================================\n",
      " dense (Dense)               (None, 20)                1580      \n",
      "                                                                 \n",
      " dense_1 (Dense)             (None, 20)                420       \n",
      "                                                                 \n",
      " dense_2 (Dense)             (None, 20)                420       \n",
      "                                                                 \n",
      " dense_3 (Dense)             (None, 1)                 21        \n",
      "                                                                 \n",
      "=================================================================\n",
      "Total params: 2,441\n",
      "Trainable params: 2,441\n",
      "Non-trainable params: 0\n",
      "_________________________________________________________________\n",
      "Epoch 1/20\n",
      "12385/12385 [==============================] - 60s 4ms/step - loss: 0.0913 - accuracy: 0.9675\n",
      "Epoch 2/20\n",
      "12385/12385 [==============================] - 55s 4ms/step - loss: 0.0451 - accuracy: 0.9870\n",
      "Epoch 3/20\n",
      "12385/12385 [==============================] - 52s 4ms/step - loss: 0.0365 - accuracy: 0.9895\n",
      "Epoch 4/20\n",
      "12385/12385 [==============================] - 55s 4ms/step - loss: 0.0313 - accuracy: 0.9912\n",
      "Epoch 5/20\n",
      "12385/12385 [==============================] - 53s 4ms/step - loss: 0.0284 - accuracy: 0.9923\n",
      "Epoch 6/20\n",
      "12385/12385 [==============================] - 53s 4ms/step - loss: 0.0262 - accuracy: 0.9929\n",
      "Epoch 7/20\n",
      "12385/12385 [==============================] - 55s 4ms/step - loss: 0.0247 - accuracy: 0.9933\n",
      "Epoch 8/20\n",
      "12385/12385 [==============================] - 53s 4ms/step - loss: 0.0231 - accuracy: 0.9937\n",
      "Epoch 9/20\n",
      "12385/12385 [==============================] - 53s 4ms/step - loss: 0.0223 - accuracy: 0.9938\n",
      "Epoch 10/20\n",
      "12385/12385 [==============================] - 56s 4ms/step - loss: 0.0213 - accuracy: 0.9940\n",
      "Epoch 11/20\n",
      "12385/12385 [==============================] - 52s 4ms/step - loss: 0.0205 - accuracy: 0.9941\n",
      "Epoch 12/20\n",
      "12385/12385 [==============================] - 52s 4ms/step - loss: 0.0199 - accuracy: 0.9944\n",
      "Epoch 13/20\n",
      "12385/12385 [==============================] - 53s 4ms/step - loss: 0.0194 - accuracy: 0.9945\n",
      "Epoch 14/20\n",
      "12385/12385 [==============================] - 52s 4ms/step - loss: 0.0188 - accuracy: 0.9947\n",
      "Epoch 15/20\n",
      "12385/12385 [==============================] - 54s 4ms/step - loss: 0.0183 - accuracy: 0.9949\n",
      "Epoch 16/20\n",
      "12385/12385 [==============================] - 51s 4ms/step - loss: 0.0180 - accuracy: 0.9950\n",
      "Epoch 17/20\n",
      "12385/12385 [==============================] - 50s 4ms/step - loss: 0.0179 - accuracy: 0.9952\n",
      "Epoch 18/20\n",
      "12385/12385 [==============================] - 52s 4ms/step - loss: 0.0172 - accuracy: 0.9953\n",
      "Epoch 19/20\n",
      "12385/12385 [==============================] - 51s 4ms/step - loss: 0.0172 - accuracy: 0.9953\n",
      "Epoch 20/20\n",
      "12385/12385 [==============================] - 52s 4ms/step - loss: 0.0171 - accuracy: 0.9953\n"
     ]
    }
   ],
   "source": [
    "model_binary = BinaryClassification(\n",
    "    input_dims=78,\n",
    "    layers=[20, 20, 20]\n",
    ")\n",
    "model_binary.fit(X_train, Y_train, epochs=20, batch_size=32)"
   ]
  },
  {
   "cell_type": "code",
   "execution_count": null,
   "metadata": {
    "colab": {
     "background_save": true,
     "base_uri": "https://localhost:8080/"
    },
    "id": "k-7CcJ9_ZeFN",
    "outputId": "410cf59a-7471-4e47-b537-73cef619437c"
   },
   "outputs": [
    {
     "name": "stdout",
     "output_type": "stream",
     "text": [
      "5308/5308 [==============================] - 10s 2ms/step\n",
      "              precision    recall  f1-score   support\n",
      "\n",
      "           0       1.00      1.00      1.00    136225\n",
      "           1       0.99      0.99      0.99     33620\n",
      "\n",
      "    accuracy                           1.00    169845\n",
      "   macro avg       0.99      0.99      0.99    169845\n",
      "weighted avg       1.00      1.00      1.00    169845\n",
      "\n"
     ]
    },
    {
     "data": {
      "image/png": "[encoded data removed]",
      "text/plain": [
       "<Figure size 640x480 with 2 Axes>"
      ]
     },
     "metadata": {},
     "output_type": "display_data"
    }
   ],
   "source": [
    "model_binary.predict(X_test, Y_test)"
   ]
  },
  {
   "cell_type": "markdown",
   "metadata": {
    "id": "T8eT4cXxZeFO"
   },
   "source": [
    "- We can see that the binary classification works very well with a high accuracy and a high f1-score."
   ]
  },
  {
   "cell_type": "markdown",
   "metadata": {
    "id": "TMjt79B6ZeFO"
   },
   "source": [
    "### MultiClass Classification\n"
   ]
  },
  {
   "cell_type": "code",
   "execution_count": null,
   "metadata": {
    "colab": {
     "background_save": true
    },
    "id": "xS15KtFEZeFP",
    "outputId": "7b9b8854-736b-48a8-e4ee-4d2f8871a70c"
   },
   "outputs": [
    {
     "name": "stdout",
     "output_type": "stream",
     "text": [
      "Model: \"server_model\"\n",
      "_________________________________________________________________\n",
      " Layer (type)                Output Shape              Param #   \n",
      "=================================================================\n",
      " dense_4 (Dense)             (None, 20)                1580      \n",
      "                                                                 \n",
      " dense_5 (Dense)             (None, 20)                420       \n",
      "                                                                 \n",
      " dense_6 (Dense)             (None, 20)                420       \n",
      "                                                                 \n",
      " dense_7 (Dense)             (None, 15)                315       \n",
      "                                                                 \n",
      "=================================================================\n",
      "Total params: 2,735\n",
      "Trainable params: 2,735\n",
      "Non-trainable params: 0\n",
      "_________________________________________________________________\n",
      "Epoch 1/20\n",
      "12385/12385 [==============================] - 48s 4ms/step - loss: 0.1749 - accuracy: 0.9477\n",
      "Epoch 2/20\n",
      "12385/12385 [==============================] - 45s 4ms/step - loss: 0.0747 - accuracy: 0.9806\n",
      "Epoch 3/20\n",
      "12385/12385 [==============================] - 47s 4ms/step - loss: 0.0579 - accuracy: 0.9850\n",
      "Epoch 4/20\n",
      "12385/12385 [==============================] - 46s 4ms/step - loss: 0.0500 - accuracy: 0.9870\n",
      "Epoch 5/20\n",
      "12385/12385 [==============================] - 46s 4ms/step - loss: 0.0439 - accuracy: 0.9887\n",
      "Epoch 6/20\n",
      "12385/12385 [==============================] - 46s 4ms/step - loss: 0.0403 - accuracy: 0.9898\n",
      "Epoch 7/20\n",
      "12385/12385 [==============================] - 47s 4ms/step - loss: 0.0373 - accuracy: 0.9907\n",
      "Epoch 8/20\n",
      "12385/12385 [==============================] - 46s 4ms/step - loss: 0.0350 - accuracy: 0.9913\n",
      "Epoch 9/20\n",
      "12385/12385 [==============================] - 46s 4ms/step - loss: 0.0336 - accuracy: 0.9917\n",
      "Epoch 10/20\n",
      "12385/12385 [==============================] - 46s 4ms/step - loss: 0.0319 - accuracy: 0.9922\n",
      "Epoch 11/20\n",
      "12385/12385 [==============================] - 45s 4ms/step - loss: 0.0311 - accuracy: 0.9924\n",
      "Epoch 12/20\n",
      "12385/12385 [==============================] - 45s 4ms/step - loss: 0.0303 - accuracy: 0.9924\n",
      "Epoch 13/20\n",
      "12385/12385 [==============================] - 46s 4ms/step - loss: 0.0295 - accuracy: 0.9927\n",
      "Epoch 14/20\n",
      "12385/12385 [==============================] - 45s 4ms/step - loss: 0.0290 - accuracy: 0.9929\n",
      "Epoch 15/20\n",
      "12385/12385 [==============================] - 46s 4ms/step - loss: 0.0283 - accuracy: 0.9929\n",
      "Epoch 16/20\n",
      "12385/12385 [==============================] - 46s 4ms/step - loss: 0.0277 - accuracy: 0.9932\n",
      "Epoch 17/20\n",
      "12385/12385 [==============================] - 45s 4ms/step - loss: 0.0274 - accuracy: 0.9933\n",
      "Epoch 18/20\n",
      "12385/12385 [==============================] - 45s 4ms/step - loss: 0.0272 - accuracy: 0.9932\n",
      "Epoch 19/20\n",
      "12385/12385 [==============================] - 45s 4ms/step - loss: 0.0269 - accuracy: 0.9933\n",
      "Epoch 20/20\n",
      "12385/12385 [==============================] - 47s 4ms/step - loss: 0.0264 - accuracy: 0.9935\n"
     ]
    }
   ],
   "source": [
    "model_sf = MulticlassClassification(\n",
    "    input_dims=78,\n",
    "    layers=[20, 20, 20],\n",
    "    num_classes=15\n",
    ")\n",
    "model_sf.fit(X_train, Y_train, epochs=20, batch_size=32)"
   ]
  },
  {
   "cell_type": "code",
   "execution_count": null,
   "metadata": {
    "colab": {
     "background_save": true
    },
    "id": "1XqJteHCZeFQ",
    "outputId": "23e93aa9-7897-453a-b06b-f3e8625cc77b"
   },
   "outputs": [
    {
     "name": "stdout",
     "output_type": "stream",
     "text": [
      "5308/5308 [==============================] - 9s 2ms/step\n",
      "              precision    recall  f1-score   support\n",
      "\n",
      "           0       1.00      1.00      1.00    136225\n",
      "           1       0.96      0.35      0.52       136\n",
      "           2       0.98      0.99      0.99      7715\n",
      "           3       0.94      0.96      0.95       642\n",
      "           4       0.99      0.99      0.99     13824\n",
      "           5       0.76      0.74      0.75       320\n",
      "           6       0.94      0.69      0.80       373\n",
      "           7       0.99      1.00      0.99       465\n",
      "          10       0.99      1.00      0.99      9649\n",
      "          11       0.95      0.97      0.96       352\n",
      "          12       0.00      0.00      0.00       104\n",
      "          13       0.00      0.00      0.00         2\n",
      "          14       0.00      0.00      0.00        38\n",
      "\n",
      "    accuracy                           0.99    169845\n",
      "   macro avg       0.73      0.67      0.69    169845\n",
      "weighted avg       0.99      0.99      0.99    169845\n",
      "\n"
     ]
    },
    {
     "data": {
      "image/png": "[encoded data removed]",
      "text/plain": [
       "<Figure size 640x480 with 2 Axes>"
      ]
     },
     "metadata": {},
     "output_type": "display_data"
    }
   ],
   "source": [
    "model_sf.predict(X_test, Y_test)"
   ]
  },
  {
   "cell_type": "markdown",
   "metadata": {
    "id": "2TZEXBULZeFQ"
   },
   "source": [
    "- The multiclass classification works well for the classes with enough samples in the dataset.\n",
    "- However, some minority classes got completely ignored, this can be improved upon by using an appropriate method to handle class imbalance."
   ]
  },
  {
   "cell_type": "markdown",
   "metadata": {
    "id": "IFuo408OZeFR"
   },
   "source": [
    "## Federated Learning"
   ]
  },
  {
   "cell_type": "code",
   "execution_count": null,
   "metadata": {
    "colab": {
     "background_save": true
    },
    "id": "NHrOZ92VZeFS"
   },
   "outputs": [],
   "source": [
    "X_1, X_2, Y_1, Y_2 = train_test_split(X_train, Y_train, train_size=0.5, random_state=1)"
   ]
  },
  {
   "cell_type": "code",
   "execution_count": null,
   "metadata": {
    "colab": {
     "background_save": true
    },
    "id": "OCU7o079ZeFS",
    "outputId": "a929da39-305d-4069-c954-cfa4f1dc72e7"
   },
   "outputs": [
    {
     "name": "stdout",
     "output_type": "stream",
     "text": [
      "(198152, 78)\n",
      "(198152, 1)\n",
      "[ 0  1  2  3  4  5  6  7  8  9 10 11 12 13 14]\n",
      "0     158990\n",
      "4      16294\n",
      "10     11120\n",
      "2       8918\n",
      "3        735\n",
      "7        561\n",
      "11       440\n",
      "5        409\n",
      "6        392\n",
      "1        139\n",
      "12        99\n",
      "14        51\n",
      "9          2\n",
      "8          1\n",
      "13         1\n",
      "dtype: int64\n",
      "(198152, 78)\n",
      "(198152, 1)\n",
      "[ 0  1  2  3  4  5  6  7  8  9 10 11 12 13 14]\n",
      "0     159405\n",
      "4      16097\n",
      "10     11017\n",
      "2       8973\n",
      "3        682\n",
      "7        562\n",
      "6        394\n",
      "11       387\n",
      "5        371\n",
      "1        118\n",
      "12        98\n",
      "14        41\n",
      "9          5\n",
      "8          1\n",
      "13         1\n",
      "dtype: int64\n"
     ]
    }
   ],
   "source": [
    "print(X_1.shape)\n",
    "print(Y_1.shape)\n",
    "print(np.unique(Y_1))\n",
    "print(pd.value_counts(Y_1.ravel()))\n",
    "print(X_2.shape)\n",
    "print(Y_2.shape)\n",
    "print(np.unique(Y_2))\n",
    "print(pd.value_counts(Y_2.ravel()))"
   ]
  },
  {
   "cell_type": "markdown",
   "metadata": {
    "id": "CWj1zEYQZeFT"
   },
   "source": [
    "### Binary Classification"
   ]
  },
  {
   "cell_type": "code",
   "execution_count": null,
   "metadata": {
    "colab": {
     "background_save": true
    },
    "id": "Dugem78iZeFT",
    "outputId": "d8f805a7-01d9-4f55-cd3d-7858448e11ec"
   },
   "outputs": [
    {
     "name": "stdout",
     "output_type": "stream",
     "text": [
      "Model: \"server_model\"\n",
      "_________________________________________________________________\n",
      " Layer (type)                Output Shape              Param #   \n",
      "=================================================================\n",
      " dense_8 (Dense)             (None, 20)                1580      \n",
      "                                                                 \n",
      " dense_9 (Dense)             (None, 20)                420       \n",
      "                                                                 \n",
      " dense_10 (Dense)            (None, 20)                420       \n",
      "                                                                 \n",
      " dense_11 (Dense)            (None, 1)                 21        \n",
      "                                                                 \n",
      "=================================================================\n",
      "Total params: 2,441\n",
      "Trainable params: 2,441\n",
      "Non-trainable params: 0\n",
      "_________________________________________________________________\n",
      "Epoch 1/20\n",
      "6193/6193 [==============================] - 27s 4ms/step - loss: 0.1236 - accuracy: 0.9516\n",
      "Epoch 2/20\n",
      "6193/6193 [==============================] - 25s 4ms/step - loss: 0.0618 - accuracy: 0.9811\n",
      "Epoch 3/20\n",
      "6193/6193 [==============================] - 25s 4ms/step - loss: 0.0498 - accuracy: 0.9849\n",
      "Epoch 4/20\n",
      "6193/6193 [==============================] - 27s 4ms/step - loss: 0.0436 - accuracy: 0.9872\n",
      "Epoch 5/20\n",
      "6193/6193 [==============================] - 25s 4ms/step - loss: 0.0381 - accuracy: 0.9890\n",
      "Epoch 6/20\n",
      "6193/6193 [==============================] - 25s 4ms/step - loss: 0.0350 - accuracy: 0.9899\n",
      "Epoch 7/20\n",
      "6193/6193 [==============================] - 25s 4ms/step - loss: 0.0319 - accuracy: 0.9911\n",
      "Epoch 8/20\n",
      "6193/6193 [==============================] - 25s 4ms/step - loss: 0.0299 - accuracy: 0.9914\n",
      "Epoch 9/20\n",
      "6193/6193 [==============================] - 25s 4ms/step - loss: 0.0285 - accuracy: 0.9918\n",
      "Epoch 10/20\n",
      "6193/6193 [==============================] - 27s 4ms/step - loss: 0.0279 - accuracy: 0.9919\n",
      "Epoch 11/20\n",
      "6193/6193 [==============================] - 26s 4ms/step - loss: 0.0263 - accuracy: 0.9922\n",
      "Epoch 12/20\n",
      "6193/6193 [==============================] - 26s 4ms/step - loss: 0.0252 - accuracy: 0.9927\n",
      "Epoch 13/20\n",
      "6193/6193 [==============================] - 26s 4ms/step - loss: 0.0247 - accuracy: 0.9928\n",
      "Epoch 14/20\n",
      "6193/6193 [==============================] - 26s 4ms/step - loss: 0.0236 - accuracy: 0.9931\n",
      "Epoch 15/20\n",
      "6193/6193 [==============================] - 26s 4ms/step - loss: 0.0235 - accuracy: 0.9932\n",
      "Epoch 16/20\n",
      "6193/6193 [==============================] - 26s 4ms/step - loss: 0.0229 - accuracy: 0.9935\n",
      "Epoch 17/20\n",
      "6193/6193 [==============================] - 26s 4ms/step - loss: 0.0221 - accuracy: 0.9936\n",
      "Epoch 18/20\n",
      "6193/6193 [==============================] - 26s 4ms/step - loss: 0.0214 - accuracy: 0.9940\n",
      "Epoch 19/20\n",
      "6193/6193 [==============================] - 25s 4ms/step - loss: 0.0214 - accuracy: 0.9938\n",
      "Epoch 20/20\n",
      "6193/6193 [==============================] - 25s 4ms/step - loss: 0.0206 - accuracy: 0.9942\n"
     ]
    }
   ],
   "source": [
    "model_1 = BinaryClassification(78, [20, 20, 20])\n",
    "model_1.fit(X_1, Y_1, epochs=20, batch_size=32)"
   ]
  },
  {
   "cell_type": "code",
   "execution_count": null,
   "metadata": {
    "colab": {
     "background_save": true
    },
    "id": "G9oQGQQ6ZeFU",
    "outputId": "1a39993d-fe01-41b0-d691-8c85597e9359"
   },
   "outputs": [
    {
     "name": "stdout",
     "output_type": "stream",
     "text": [
      "5308/5308 [==============================] - 8s 2ms/step\n",
      "              precision    recall  f1-score   support\n",
      "\n",
      "           0       1.00      1.00      1.00    136225\n",
      "           1       0.98      0.98      0.98     33620\n",
      "\n",
      "    accuracy                           0.99    169845\n",
      "   macro avg       0.99      0.99      0.99    169845\n",
      "weighted avg       0.99      0.99      0.99    169845\n",
      "\n"
     ]
    },
    {
     "data": {
      "image/png": "[encoded data removed]",
      "text/plain": [
       "<Figure size 640x480 with 2 Axes>"
      ]
     },
     "metadata": {},
     "output_type": "display_data"
    }
   ],
   "source": [
    "model_1.predict(X_test, Y_test)"
   ]
  },
  {
   "cell_type": "code",
   "execution_count": null,
   "metadata": {
    "colab": {
     "background_save": true
    },
    "id": "M0HwRjJzZeFV",
    "outputId": "e5d38d38-ca54-4234-b91d-926600e347ae"
   },
   "outputs": [
    {
     "name": "stdout",
     "output_type": "stream",
     "text": [
      "Model: \"server_model\"\n",
      "_________________________________________________________________\n",
      " Layer (type)                Output Shape              Param #   \n",
      "=================================================================\n",
      " dense_12 (Dense)            (None, 20)                1580      \n",
      "                                                                 \n",
      " dense_13 (Dense)            (None, 20)                420       \n",
      "                                                                 \n",
      " dense_14 (Dense)            (None, 20)                420       \n",
      "                                                                 \n",
      " dense_15 (Dense)            (None, 1)                 21        \n",
      "                                                                 \n",
      "=================================================================\n",
      "Total params: 2,441\n",
      "Trainable params: 2,441\n",
      "Non-trainable params: 0\n",
      "_________________________________________________________________\n",
      "Epoch 1/20\n",
      "6193/6193 [==============================] - 27s 4ms/step - loss: 0.1382 - accuracy: 0.9445\n",
      "Epoch 2/20\n",
      "6193/6193 [==============================] - 25s 4ms/step - loss: 0.0750 - accuracy: 0.9750\n",
      "Epoch 3/20\n",
      "6193/6193 [==============================] - 25s 4ms/step - loss: 0.0542 - accuracy: 0.9841\n",
      "Epoch 4/20\n",
      "6193/6193 [==============================] - 26s 4ms/step - loss: 0.0473 - accuracy: 0.9858\n",
      "Epoch 5/20\n",
      "6193/6193 [==============================] - 26s 4ms/step - loss: 0.0407 - accuracy: 0.9880\n",
      "Epoch 6/20\n",
      "6193/6193 [==============================] - 26s 4ms/step - loss: 0.0370 - accuracy: 0.9895\n",
      "Epoch 7/20\n",
      "6193/6193 [==============================] - 25s 4ms/step - loss: 0.0341 - accuracy: 0.9905\n",
      "Epoch 8/20\n",
      "6193/6193 [==============================] - 25s 4ms/step - loss: 0.0321 - accuracy: 0.9909\n",
      "Epoch 9/20\n",
      "6193/6193 [==============================] - 25s 4ms/step - loss: 0.0301 - accuracy: 0.9916\n",
      "Epoch 10/20\n",
      "6193/6193 [==============================] - 27s 4ms/step - loss: 0.0287 - accuracy: 0.9921\n",
      "Epoch 11/20\n",
      "6193/6193 [==============================] - 27s 4ms/step - loss: 0.0281 - accuracy: 0.9922\n",
      "Epoch 12/20\n",
      "6193/6193 [==============================] - 26s 4ms/step - loss: 0.0266 - accuracy: 0.9927\n",
      "Epoch 13/20\n",
      "6193/6193 [==============================] - 26s 4ms/step - loss: 0.0260 - accuracy: 0.9929\n",
      "Epoch 14/20\n",
      "6193/6193 [==============================] - 26s 4ms/step - loss: 0.0248 - accuracy: 0.9932\n",
      "Epoch 15/20\n",
      "6193/6193 [==============================] - 27s 4ms/step - loss: 0.0244 - accuracy: 0.9934\n",
      "Epoch 16/20\n",
      "6193/6193 [==============================] - 27s 4ms/step - loss: 0.0241 - accuracy: 0.9935\n",
      "Epoch 17/20\n",
      "6193/6193 [==============================] - 25s 4ms/step - loss: 0.0238 - accuracy: 0.9937\n",
      "Epoch 18/20\n",
      "6193/6193 [==============================] - 25s 4ms/step - loss: 0.0231 - accuracy: 0.9937\n",
      "Epoch 19/20\n",
      "6193/6193 [==============================] - 26s 4ms/step - loss: 0.0227 - accuracy: 0.9938\n",
      "Epoch 20/20\n",
      "6193/6193 [==============================] - 26s 4ms/step - loss: 0.0229 - accuracy: 0.9939\n"
     ]
    }
   ],
   "source": [
    "model_2 = BinaryClassification(78, [20, 20, 20])\n",
    "model_2.fit(X_2, Y_2, epochs=20, batch_size=32)"
   ]
  },
  {
   "cell_type": "code",
   "execution_count": null,
   "metadata": {
    "colab": {
     "background_save": true
    },
    "id": "05wsl6GAZeFW",
    "outputId": "31cfb78b-d4b3-4232-8f5d-b357008508ab"
   },
   "outputs": [
    {
     "name": "stdout",
     "output_type": "stream",
     "text": [
      "5308/5308 [==============================] - 10s 2ms/step\n",
      "              precision    recall  f1-score   support\n",
      "\n",
      "           0       1.00      1.00      1.00    136225\n",
      "           1       0.99      0.98      0.98     33620\n",
      "\n",
      "    accuracy                           0.99    169845\n",
      "   macro avg       0.99      0.99      0.99    169845\n",
      "weighted avg       0.99      0.99      0.99    169845\n",
      "\n"
     ]
    },
    {
     "data": {
      "image/png": "[encoded data removed]",
      "text/plain": [
       "<Figure size 640x480 with 2 Axes>"
      ]
     },
     "metadata": {},
     "output_type": "display_data"
    }
   ],
   "source": [
    "model_2.predict(X_test, Y_test)"
   ]
  },
  {
   "cell_type": "markdown",
   "metadata": {
    "id": "gvJjBeSmZeFW"
   },
   "source": [
    "- We trained 2 models on two different datasets above.\n",
    "- There was no data shared between both models.\n",
    "- Now, we will use the `set_avg_weights` method to combine both models to set the weights in a third model."
   ]
  },
  {
   "cell_type": "code",
   "execution_count": null,
   "metadata": {
    "colab": {
     "background_save": true
    },
    "id": "jkGXEgkXZeFX",
    "outputId": "9a539cdc-615b-4cde-933d-ea271db618cd"
   },
   "outputs": [
    {
     "name": "stdout",
     "output_type": "stream",
     "text": [
      "Model: \"server_model\"\n",
      "_________________________________________________________________\n",
      " Layer (type)                Output Shape              Param #   \n",
      "=================================================================\n",
      " dense_16 (Dense)            (None, 20)                1580      \n",
      "                                                                 \n",
      " dense_17 (Dense)            (None, 20)                420       \n",
      "                                                                 \n",
      " dense_18 (Dense)            (None, 20)                420       \n",
      "                                                                 \n",
      " dense_19 (Dense)            (None, 1)                 21        \n",
      "                                                                 \n",
      "=================================================================\n",
      "Total params: 2,441\n",
      "Trainable params: 2,441\n",
      "Non-trainable params: 0\n",
      "_________________________________________________________________\n"
     ]
    }
   ],
   "source": [
    "model_3 = BinaryClassification(78, [20, 20, 20])\n",
    "model_3.set_avg_weights([model_1, model_2])"
   ]
  },
  {
   "cell_type": "code",
   "execution_count": null,
   "metadata": {
    "colab": {
     "background_save": true
    },
    "id": "r7U79OvGZeFY",
    "outputId": "aa3dc29d-516b-4d9f-f59b-022e80e63c1a"
   },
   "outputs": [
    {
     "name": "stdout",
     "output_type": "stream",
     "text": [
      "5308/5308 [==============================] - 9s 2ms/step\n",
      "              precision    recall  f1-score   support\n",
      "\n",
      "           0       0.92      0.90      0.91    136225\n",
      "           1       0.63      0.70      0.66     33620\n",
      "\n",
      "    accuracy                           0.86    169845\n",
      "   macro avg       0.78      0.80      0.79    169845\n",
      "weighted avg       0.87      0.86      0.86    169845\n",
      "\n"
     ]
    },
    {
     "data": {
      "image/png": "[encoded data removed]",
      "text/plain": [
       "<Figure size 640x480 with 2 Axes>"
      ]
     },
     "metadata": {},
     "output_type": "display_data"
    }
   ],
   "source": [
    "model_3.predict(X_test, Y_test)"
   ]
  },
  {
   "cell_type": "markdown",
   "metadata": {
    "id": "OwGd36WMZeFZ"
   },
   "source": [
    "- We see the accuracy has gone down due to a possible reduction in the size of data.\n",
    "- However, we still used the complete dataset without sharing any data."
   ]
  },
  {
   "cell_type": "markdown",
   "metadata": {
    "id": "n-TtRzV7ZeFa"
   },
   "source": [
    "### Multiclass Classification\n",
    "\n",
    "- We did the same process as above for multiclass classification as well."
   ]
  },
  {
   "cell_type": "code",
   "execution_count": null,
   "metadata": {
    "colab": {
     "background_save": true
    },
    "id": "1TuEu_GCZeFa",
    "outputId": "71484fd3-81b9-40c2-a847-abcb3109d382"
   },
   "outputs": [
    {
     "name": "stdout",
     "output_type": "stream",
     "text": [
      "Model: \"server_model\"\n",
      "_________________________________________________________________\n",
      " Layer (type)                Output Shape              Param #   \n",
      "=================================================================\n",
      " dense_20 (Dense)            (None, 20)                1580      \n",
      "                                                                 \n",
      " dense_21 (Dense)            (None, 20)                420       \n",
      "                                                                 \n",
      " dense_22 (Dense)            (None, 20)                420       \n",
      "                                                                 \n",
      " dense_23 (Dense)            (None, 15)                315       \n",
      "                                                                 \n",
      "=================================================================\n",
      "Total params: 2,735\n",
      "Trainable params: 2,735\n",
      "Non-trainable params: 0\n",
      "_________________________________________________________________\n",
      "Epoch 1/20\n",
      "6193/6193 [==============================] - 25s 4ms/step - loss: 0.2376 - accuracy: 0.9279\n",
      "Epoch 2/20\n",
      "6193/6193 [==============================] - 23s 4ms/step - loss: 0.1125 - accuracy: 0.9636\n",
      "Epoch 3/20\n",
      "6193/6193 [==============================] - 22s 4ms/step - loss: 0.0852 - accuracy: 0.9768\n",
      "Epoch 4/20\n",
      "6193/6193 [==============================] - 23s 4ms/step - loss: 0.0699 - accuracy: 0.9819\n",
      "Epoch 5/20\n",
      "6193/6193 [==============================] - 23s 4ms/step - loss: 0.0611 - accuracy: 0.9839\n",
      "Epoch 6/20\n",
      "6193/6193 [==============================] - 22s 4ms/step - loss: 0.0559 - accuracy: 0.9853\n",
      "Epoch 7/20\n",
      "6193/6193 [==============================] - 24s 4ms/step - loss: 0.0515 - accuracy: 0.9865\n",
      "Epoch 8/20\n",
      "6193/6193 [==============================] - 23s 4ms/step - loss: 0.0474 - accuracy: 0.9878\n",
      "Epoch 9/20\n",
      "6193/6193 [==============================] - 23s 4ms/step - loss: 0.0447 - accuracy: 0.9885\n",
      "Epoch 10/20\n",
      "6193/6193 [==============================] - 22s 4ms/step - loss: 0.0427 - accuracy: 0.9890\n",
      "Epoch 11/20\n",
      "6193/6193 [==============================] - 23s 4ms/step - loss: 0.0412 - accuracy: 0.9894\n",
      "Epoch 12/20\n",
      "6193/6193 [==============================] - 23s 4ms/step - loss: 0.0395 - accuracy: 0.9900\n",
      "Epoch 13/20\n",
      "6193/6193 [==============================] - 23s 4ms/step - loss: 0.0386 - accuracy: 0.9900\n",
      "Epoch 14/20\n",
      "6193/6193 [==============================] - 23s 4ms/step - loss: 0.0369 - accuracy: 0.9907\n",
      "Epoch 15/20\n",
      "6193/6193 [==============================] - 23s 4ms/step - loss: 0.0361 - accuracy: 0.9906\n",
      "Epoch 16/20\n",
      "6193/6193 [==============================] - 23s 4ms/step - loss: 0.0351 - accuracy: 0.9911\n",
      "Epoch 17/20\n",
      "6193/6193 [==============================] - 22s 4ms/step - loss: 0.0342 - accuracy: 0.9912\n",
      "Epoch 18/20\n",
      "6193/6193 [==============================] - 23s 4ms/step - loss: 0.0337 - accuracy: 0.9914\n",
      "Epoch 19/20\n",
      "6193/6193 [==============================] - 23s 4ms/step - loss: 0.0327 - accuracy: 0.9917\n",
      "Epoch 20/20\n",
      "6193/6193 [==============================] - 24s 4ms/step - loss: 0.0325 - accuracy: 0.9919\n"
     ]
    }
   ],
   "source": [
    "model_sf_1 = MulticlassClassification(\n",
    "    78,\n",
    "    [20, 20, 20],\n",
    "    num_classes=15\n",
    ")\n",
    "model_sf_1.fit(X_1, Y_1, epochs=20, batch_size=32)"
   ]
  },
  {
   "cell_type": "code",
   "execution_count": null,
   "metadata": {
    "colab": {
     "background_save": true
    },
    "id": "7eNSnuPPZeFb",
    "outputId": "c371c536-4f4a-4d7f-ac9f-7582b4f1c661"
   },
   "outputs": [
    {
     "name": "stdout",
     "output_type": "stream",
     "text": [
      "5308/5308 [==============================] - 10s 2ms/step\n",
      "              precision    recall  f1-score   support\n",
      "\n",
      "           0       0.99      0.99      0.99    136225\n",
      "           1       0.96      0.32      0.48       136\n",
      "           2       0.98      0.98      0.98      7715\n",
      "           3       0.92      0.96      0.94       642\n",
      "           4       0.96      0.99      0.97     13824\n",
      "           5       0.79      0.66      0.72       320\n",
      "           6       0.94      0.41      0.57       373\n",
      "           7       0.99      0.86      0.92       465\n",
      "          10       0.99      0.99      0.99      9649\n",
      "          11       0.90      0.98      0.94       352\n",
      "          12       0.00      0.00      0.00       104\n",
      "          13       0.00      0.00      0.00         2\n",
      "          14       0.00      0.00      0.00        38\n",
      "\n",
      "    accuracy                           0.99    169845\n",
      "   macro avg       0.72      0.63      0.65    169845\n",
      "weighted avg       0.99      0.99      0.99    169845\n",
      "\n"
     ]
    },
    {
     "data": {
      "image/png": "[encoded data removed]",
      "text/plain": [
       "<Figure size 640x480 with 2 Axes>"
      ]
     },
     "metadata": {},
     "output_type": "display_data"
    }
   ],
   "source": [
    "model_sf_1.predict(X_test, Y_test)"
   ]
  },
  {
   "cell_type": "code",
   "execution_count": null,
   "metadata": {
    "colab": {
     "background_save": true
    },
    "id": "wj26RqqOZeFb",
    "outputId": "81e3b2ff-5e41-4c40-82c8-f1d1075eb598"
   },
   "outputs": [
    {
     "name": "stdout",
     "output_type": "stream",
     "text": [
      "Model: \"server_model\"\n",
      "_________________________________________________________________\n",
      " Layer (type)                Output Shape              Param #   \n",
      "=================================================================\n",
      " dense_24 (Dense)            (None, 20)                1580      \n",
      "                                                                 \n",
      " dense_25 (Dense)            (None, 20)                420       \n",
      "                                                                 \n",
      " dense_26 (Dense)            (None, 20)                420       \n",
      "                                                                 \n",
      " dense_27 (Dense)            (None, 15)                315       \n",
      "                                                                 \n",
      "=================================================================\n",
      "Total params: 2,735\n",
      "Trainable params: 2,735\n",
      "Non-trainable params: 0\n",
      "_________________________________________________________________\n",
      "Epoch 1/20\n",
      "6193/6193 [==============================] - 25s 4ms/step - loss: 0.2319 - accuracy: 0.9278\n",
      "Epoch 2/20\n",
      "6193/6193 [==============================] - 23s 4ms/step - loss: 0.1063 - accuracy: 0.9669\n",
      "Epoch 3/20\n",
      "6193/6193 [==============================] - 22s 4ms/step - loss: 0.0799 - accuracy: 0.9786\n",
      "Epoch 4/20\n",
      "6193/6193 [==============================] - 24s 4ms/step - loss: 0.0678 - accuracy: 0.9819\n",
      "Epoch 5/20\n",
      "6193/6193 [==============================] - 23s 4ms/step - loss: 0.0610 - accuracy: 0.9835\n",
      "Epoch 6/20\n",
      "6193/6193 [==============================] - 23s 4ms/step - loss: 0.0563 - accuracy: 0.9847\n",
      "Epoch 7/20\n",
      "6193/6193 [==============================] - 23s 4ms/step - loss: 0.0523 - accuracy: 0.9860\n",
      "Epoch 8/20\n",
      "6193/6193 [==============================] - 23s 4ms/step - loss: 0.0495 - accuracy: 0.9867\n",
      "Epoch 9/20\n",
      "6193/6193 [==============================] - 23s 4ms/step - loss: 0.0463 - accuracy: 0.9878\n",
      "Epoch 10/20\n",
      "6193/6193 [==============================] - 23s 4ms/step - loss: 0.0443 - accuracy: 0.9885\n",
      "Epoch 11/20\n",
      "6193/6193 [==============================] - 24s 4ms/step - loss: 0.0429 - accuracy: 0.9889\n",
      "Epoch 12/20\n",
      "6193/6193 [==============================] - 23s 4ms/step - loss: 0.0410 - accuracy: 0.9894\n",
      "Epoch 13/20\n",
      "6193/6193 [==============================] - 23s 4ms/step - loss: 0.0398 - accuracy: 0.9898\n",
      "Epoch 14/20\n",
      "6193/6193 [==============================] - 23s 4ms/step - loss: 0.0381 - accuracy: 0.9905\n",
      "Epoch 15/20\n",
      "6193/6193 [==============================] - 22s 4ms/step - loss: 0.0367 - accuracy: 0.9910\n",
      "Epoch 16/20\n",
      "6193/6193 [==============================] - 23s 4ms/step - loss: 0.0359 - accuracy: 0.9910\n",
      "Epoch 17/20\n",
      "6193/6193 [==============================] - 23s 4ms/step - loss: 0.0348 - accuracy: 0.9912\n",
      "Epoch 18/20\n",
      "6193/6193 [==============================] - 24s 4ms/step - loss: 0.0340 - accuracy: 0.9915\n",
      "Epoch 19/20\n",
      "6193/6193 [==============================] - 22s 4ms/step - loss: 0.0334 - accuracy: 0.9918\n",
      "Epoch 20/20\n",
      "6193/6193 [==============================] - 23s 4ms/step - loss: 0.0328 - accuracy: 0.9921\n"
     ]
    }
   ],
   "source": [
    "model_sf_2 = MulticlassClassification(\n",
    "    78,\n",
    "    [20, 20, 20],\n",
    "    num_classes=15\n",
    ")\n",
    "model_sf_2.fit(X_2, Y_2, epochs=20, batch_size=32)"
   ]
  },
  {
   "cell_type": "code",
   "execution_count": null,
   "metadata": {
    "colab": {
     "background_save": true
    },
    "id": "kzY-an-qZeFc",
    "outputId": "2a6ec5e3-6844-4416-bfb9-ff40b0051cb9"
   },
   "outputs": [
    {
     "name": "stdout",
     "output_type": "stream",
     "text": [
      "5308/5308 [==============================] - 9s 2ms/step\n",
      "              precision    recall  f1-score   support\n",
      "\n",
      "           0       0.99      1.00      1.00    136225\n",
      "           1       1.00      0.35      0.52       136\n",
      "           2       0.98      0.99      0.98      7715\n",
      "           3       0.95      0.87      0.91       642\n",
      "           4       0.99      0.99      0.99     13824\n",
      "           5       0.81      0.55      0.65       320\n",
      "           6       0.88      0.67      0.76       373\n",
      "           7       0.96      0.98      0.97       465\n",
      "          10       0.99      0.99      0.99      9649\n",
      "          11       0.95      0.94      0.94       352\n",
      "          12       0.00      0.00      0.00       104\n",
      "          13       0.00      0.00      0.00         2\n",
      "          14       0.00      0.00      0.00        38\n",
      "\n",
      "    accuracy                           0.99    169845\n",
      "   macro avg       0.73      0.64      0.67    169845\n",
      "weighted avg       0.99      0.99      0.99    169845\n",
      "\n"
     ]
    },
    {
     "data": {
      "image/png": "[encoded data removed]",
      "text/plain": [
       "<Figure size 640x480 with 2 Axes>"
      ]
     },
     "metadata": {},
     "output_type": "display_data"
    }
   ],
   "source": [
    "model_sf_2.predict(X_test, Y_test)"
   ]
  },
  {
   "cell_type": "code",
   "execution_count": null,
   "metadata": {
    "colab": {
     "background_save": true
    },
    "id": "zbIchHWxZeFd",
    "outputId": "83af9527-257e-4f1b-a8be-807006540458"
   },
   "outputs": [
    {
     "name": "stdout",
     "output_type": "stream",
     "text": [
      "Model: \"server_model\"\n",
      "_________________________________________________________________\n",
      " Layer (type)                Output Shape              Param #   \n",
      "=================================================================\n",
      " dense_28 (Dense)            (None, 20)                1580      \n",
      "                                                                 \n",
      " dense_29 (Dense)            (None, 20)                420       \n",
      "                                                                 \n",
      " dense_30 (Dense)            (None, 20)                420       \n",
      "                                                                 \n",
      " dense_31 (Dense)            (None, 15)                315       \n",
      "                                                                 \n",
      "=================================================================\n",
      "Total params: 2,735\n",
      "Trainable params: 2,735\n",
      "Non-trainable params: 0\n",
      "_________________________________________________________________\n"
     ]
    }
   ],
   "source": [
    "model_sf_3 = MulticlassClassification(\n",
    "    78,\n",
    "    [20, 20, 20],\n",
    "    num_classes=15\n",
    ")\n",
    "model_sf_3.set_avg_weights([model_sf_1, model_sf_2])"
   ]
  },
  {
   "cell_type": "code",
   "execution_count": null,
   "metadata": {
    "colab": {
     "background_save": true
    },
    "id": "HHFNiovCZeFd",
    "outputId": "fb4e53a8-0501-4f36-c294-60719852afa3"
   },
   "outputs": [
    {
     "name": "stdout",
     "output_type": "stream",
     "text": [
      "5308/5308 [==============================] - 9s 2ms/step\n",
      "              precision    recall  f1-score   support\n",
      "\n",
      "           0       0.82      1.00      0.90    136225\n",
      "           1       0.00      0.00      0.00       136\n",
      "           2       0.04      0.00      0.00      7715\n",
      "           3       0.00      0.00      0.00       642\n",
      "           4       0.00      0.00      0.00     13824\n",
      "           5       0.00      0.00      0.00       320\n",
      "           6       0.00      0.00      0.00       373\n",
      "           7       0.00      0.00      0.00       465\n",
      "          10       0.98      0.39      0.56      9649\n",
      "          11       0.00      0.00      0.00       352\n",
      "          12       0.00      0.00      0.00       104\n",
      "          13       0.00      0.00      0.00         2\n",
      "          14       0.00      0.00      0.00        38\n",
      "\n",
      "    accuracy                           0.82    169845\n",
      "   macro avg       0.14      0.11      0.11    169845\n",
      "weighted avg       0.72      0.82      0.75    169845\n",
      "\n"
     ]
    },
    {
     "data": {
      "image/png": "[encoded data removed]",
      "text/plain": [
       "<Figure size 640x480 with 2 Axes>"
      ]
     },
     "metadata": {},
     "output_type": "display_data"
    }
   ],
   "source": [
    "model_sf_3.predict(X_test, Y_test)\n"
   ]
  },
  {
   "cell_type": "markdown",
   "metadata": {
    "id": "mS4TZ5p7ZeFd"
   },
   "source": [
    "- We see a similar reduction in accuracy which combined with the class imbalance hampered the usefullness of this model a lot.\n",
    "- However, with proper handling of the class imbalance, we can remedy this."
   ]
  },
  {
   "cell_type": "markdown",
   "metadata": {
    "id": "JTucX8cLZeFe"
   },
   "source": [
    "## Never Ending Learning\n",
    "### Anomaly Detection Using Isolation Forest\n",
    "\n",
    "- To detect anomalous samples, we will use an isolation forest."
   ]
  },
  {
   "cell_type": "code",
   "execution_count": null,
   "metadata": {
    "colab": {
     "background_save": true
    },
    "id": "hG9dfc4zZeFf",
    "outputId": "c0e14cbe-d87d-49bf-9468-1ce0e2629042"
   },
   "outputs": [
    {
     "data": {
      "text/html": [
       "<style>#sk-container-id-1 {color: black;background-color: white;}#sk-container-id-1 pre{padding: 0;}#sk-container-id-1 div.sk-toggleable {background-color: white;}#sk-container-id-1 label.sk-toggleable__label {cursor: pointer;display: block;width: 100%;margin-bottom: 0;padding: 0.3em;box-sizing: border-box;text-align: center;}#sk-container-id-1 label.sk-toggleable__label-arrow:before {content: \"▸\";float: left;margin-right: 0.25em;color: #696969;}#sk-container-id-1 label.sk-toggleable__label-arrow:hover:before {color: black;}#sk-container-id-1 div.sk-estimator:hover label.sk-toggleable__label-arrow:before {color: black;}#sk-container-id-1 div.sk-toggleable__content {max-height: 0;max-width: 0;overflow: hidden;text-align: left;background-color: #f0f8ff;}#sk-container-id-1 div.sk-toggleable__content pre {margin: 0.2em;color: black;border-radius: 0.25em;background-color: #f0f8ff;}#sk-container-id-1 input.sk-toggleable__control:checked~div.sk-toggleable__content {max-height: 200px;max-width: 100%;overflow: auto;}#sk-container-id-1 input.sk-toggleable__control:checked~label.sk-toggleable__label-arrow:before {content: \"▾\";}#sk-container-id-1 div.sk-estimator input.sk-toggleable__control:checked~label.sk-toggleable__label {background-color: #d4ebff;}#sk-container-id-1 div.sk-label input.sk-toggleable__control:checked~label.sk-toggleable__label {background-color: #d4ebff;}#sk-container-id-1 input.sk-hidden--visually {border: 0;clip: rect(1px 1px 1px 1px);clip: rect(1px, 1px, 1px, 1px);height: 1px;margin: -1px;overflow: hidden;padding: 0;position: absolute;width: 1px;}#sk-container-id-1 div.sk-estimator {font-family: monospace;background-color: #f0f8ff;border: 1px dotted black;border-radius: 0.25em;box-sizing: border-box;margin-bottom: 0.5em;}#sk-container-id-1 div.sk-estimator:hover {background-color: #d4ebff;}#sk-container-id-1 div.sk-parallel-item::after {content: \"\";width: 100%;border-bottom: 1px solid gray;flex-grow: 1;}#sk-container-id-1 div.sk-label:hover label.sk-toggleable__label {background-color: #d4ebff;}#sk-container-id-1 div.sk-serial::before {content: \"\";position: absolute;border-left: 1px solid gray;box-sizing: border-box;top: 0;bottom: 0;left: 50%;z-index: 0;}#sk-container-id-1 div.sk-serial {display: flex;flex-direction: column;align-items: center;background-color: white;padding-right: 0.2em;padding-left: 0.2em;position: relative;}#sk-container-id-1 div.sk-item {position: relative;z-index: 1;}#sk-container-id-1 div.sk-parallel {display: flex;align-items: stretch;justify-content: center;background-color: white;position: relative;}#sk-container-id-1 div.sk-item::before, #sk-container-id-1 div.sk-parallel-item::before {content: \"\";position: absolute;border-left: 1px solid gray;box-sizing: border-box;top: 0;bottom: 0;left: 50%;z-index: -1;}#sk-container-id-1 div.sk-parallel-item {display: flex;flex-direction: column;z-index: 1;position: relative;background-color: white;}#sk-container-id-1 div.sk-parallel-item:first-child::after {align-self: flex-end;width: 50%;}#sk-container-id-1 div.sk-parallel-item:last-child::after {align-self: flex-start;width: 50%;}#sk-container-id-1 div.sk-parallel-item:only-child::after {width: 0;}#sk-container-id-1 div.sk-dashed-wrapped {border: 1px dashed gray;margin: 0 0.4em 0.5em 0.4em;box-sizing: border-box;padding-bottom: 0.4em;background-color: white;}#sk-container-id-1 div.sk-label label {font-family: monospace;font-weight: bold;display: inline-block;line-height: 1.2em;}#sk-container-id-1 div.sk-label-container {text-align: center;}#sk-container-id-1 div.sk-container {/* jupyter's `normalize.less` sets `[hidden] { display: none; }` but bootstrap.min.css set `[hidden] { display: none !important; }` so we also need the `!important` here to be able to override the default hidden behavior on the sphinx rendered scikit-learn.org. See: https://github.com/scikit-learn/scikit-learn/issues/21755 */display: inline-block !important;position: relative;}#sk-container-id-1 div.sk-text-repr-fallback {display: none;}</style><div id=\"sk-container-id-1\" class=\"sk-top-container\"><div class=\"sk-text-repr-fallback\"><pre>IsolationForest(random_state=1)</pre><b>In a Jupyter environment, please rerun this cell to show the HTML representation or trust the notebook. <br />On GitHub, the HTML representation is unable to render, please try loading this page with nbviewer.org.</b></div><div class=\"sk-container\" hidden><div class=\"sk-item\"><div class=\"sk-estimator sk-toggleable\"><input class=\"sk-toggleable__control sk-hidden--visually\" id=\"sk-estimator-id-1\" type=\"checkbox\" checked><label for=\"sk-estimator-id-1\" class=\"sk-toggleable__label sk-toggleable__label-arrow\">IsolationForest</label><div class=\"sk-toggleable__content\"><pre>IsolationForest(random_state=1)</pre></div></div></div></div></div>"
      ],
      "text/plain": [
       "IsolationForest(random_state=1)"
      ]
     },
     "execution_count": 34,
     "metadata": {},
     "output_type": "execute_result"
    }
   ],
   "source": [
    "from sklearn.ensemble import IsolationForest\n",
    "\n",
    "isf = IsolationForest(random_state=1)\n",
    "isf.fit(X)"
   ]
  },
  {
   "cell_type": "code",
   "execution_count": null,
   "metadata": {
    "id": "6nwBKxURZeFg"
   },
   "outputs": [],
   "source": [
    "preds = isf.predict(X_train)"
   ]
  },
  {
   "cell_type": "code",
   "execution_count": null,
   "metadata": {
    "id": "q75sTmvcZeFg"
   },
   "outputs": [],
   "source": [
    "num_anomaly = len([p for p in preds if p == -1])\n",
    "print(f\"{num_anomaly} anomalies found\")"
   ]
  },
  {
   "cell_type": "markdown",
   "metadata": {
    "id": "tr3Z_IWBZeFh"
   },
   "source": [
    "- We have found a number of anomalies, the only step remaining is to create new classes for them.\n",
    "\n",
    "## Future Work\n",
    "- After getting the anomalies, we can use an unsupervised learning method to cluster all the anomalous samples together.\n",
    "- We can then use these clusters to create new classes and keep updating the model.\n",
    "\n",
    "## Inferences\n",
    "- The class imbalance hampered the multiclass classification, but the binary classification worked very well for the CICIDS dataset.\n",
    "- Federated learning helped us to train a model without sharing any data between models. This can be essential in situations where the data is highly private and sharing it can be a huge security flaw."
   ]
  }
 ],
 "metadata": {
  "accelerator": "GPU",
  "colab": {
   "provenance": []
  },
  "gpuClass": "standard",
  "kernelspec": {
   "display_name": "Python 3 (ipykernel)",
   "language": "python",
   "name": "python3"
  },
  "language_info": {
   "codemirror_mode": {
    "name": "ipython",
    "version": 3
   },
   "file_extension": ".py",
   "mimetype": "text/x-python",
   "name": "python",
   "nbconvert_exporter": "python",
   "pygments_lexer": "ipython3",
   "version": "3.11.0"
  },
  "vscode": {
   "interpreter": {
    "hash": "e7370f93d1d0cde622a1f8e1c04877d8463912d04d973331ad4851f04de6915a"
   }
  }
 },
 "nbformat": 4,
 "nbformat_minor": 4
}
